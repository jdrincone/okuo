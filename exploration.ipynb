{
 "cells": [
  {
   "cell_type": "code",
   "execution_count": 1,
   "id": "initial_id",
   "metadata": {
    "collapsed": true,
    "ExecuteTime": {
     "end_time": "2025-01-03T02:01:03.703589600Z",
     "start_time": "2025-01-03T02:00:59.410048700Z"
    }
   },
   "outputs": [],
   "source": [
    "import pandas as pd\n",
    "from ydata_profiling import ProfileReport\n",
    "import sweetviz as sv"
   ]
  },
  {
   "cell_type": "markdown",
   "source": [
    "# Exploración de datos generando profit"
   ],
   "metadata": {
    "collapsed": false
   },
   "id": "734d294d61a4c64b"
  },
  {
   "cell_type": "code",
   "execution_count": 5,
   "outputs": [],
   "source": [
    "df = pd.read_csv(\"Prueba de modelamiento para Cientifico de Datos 2023.csv\", encoding='latin-1', sep=';')"
   ],
   "metadata": {
    "collapsed": false,
    "ExecuteTime": {
     "end_time": "2025-01-03T02:01:40.556230400Z",
     "start_time": "2025-01-03T02:01:40.470776100Z"
    }
   },
   "id": "43887d372aafe1d0"
  },
  {
   "cell_type": "code",
   "execution_count": 6,
   "outputs": [
    {
     "data": {
      "text/plain": "                        loteNo departamento_anonym empresa_anonym  \\\n0     5e4604c71c555bfa922bd644                dp_0           em_0   \n1     5e4604c71c555bfa922bd68c                dp_0           em_0   \n2     5e4604c71c555bfa922bd6b5                dp_0           em_0   \n3     5ea0d184cbe8d10cee382f9b                dp_0           em_0   \n4     5ef2216bde8636c49c3b8530                dp_0           em_0   \n...                        ...                 ...            ...   \n2520  6453f7e618bf3e15193e673b                dp_6          em_71   \n2521  6455212918bf3e15197d4918                dp_3          em_63   \n2522  6459810518bf3e1519b1d811                dp_0          em_75   \n2523  645a406018bf3e1519de455c                dp_0          em_29   \n2524  645a406018bf3e1519de4565                dp_0          em_29   \n\n     granja_anonym proveedorCorregido_anonym fabricaAlimento genetica  \\\n0             gr_0                      pn_0            pp_0     lg_0   \n1             gr_0                      pn_0            pp_0     lg_0   \n2             gr_0                      pn_0            pp_0     lg_0   \n3             gr_0                      pn_0            pp_0     lg_0   \n4             gr_0                      pn_0            pp_0     lg_0   \n...            ...                       ...             ...      ...   \n2520         gr_81                      pn_0            pp_2     lg_0   \n2521         gr_69                      pn_6            pp_8     lg_0   \n2522         gr_85                      pn_0            pp_0     lg_0   \n2523         gr_30                      pn_0            pp_0     lg_0   \n2524         gr_30                      pn_0            pp_0     lg_0   \n\n      duracionCeba  edadFinal  edadInicial  ...  pesoFinal  fechaSalida  \\\n0            72.00     152.00        80.00  ...   103.5600    9/09/2019   \n1            81.00     154.00        73.00  ...   100.6400   23/10/2019   \n2            79.00     152.00        73.00  ...   102.0700   19/11/2019   \n3            76.00     155.00        79.00  ...   114.1200   13/03/2020   \n4            74.00     154.00        80.00  ...   118.6400    1/04/2020   \n...            ...        ...          ...  ...        ...          ...   \n2520         60.00     146.53        86.53  ...    95.9700   30/03/2023   \n2521         93.19     165.16        71.97  ...   122.3664    1/03/2023   \n2522         83.00     155.09        72.09  ...    95.8500   31/03/2023   \n2523         72.00     140.29        68.29  ...    84.5100    6/08/2022   \n2524         69.00     139.35        70.35  ...    97.1400   17/03/2023   \n\n     anioSalida  semesreSalida  anioSemestreSalida asesor numFinalAnimales  \\\n0          2019              2             2019-S2   rt_0              220   \n1          2019              2             2019-S2   rt_0              187   \n2          2019              2             2019-S2   rt_0              194   \n3          2020              1             2020-S1   rt_0              203   \n4          2020              1             2020-S1   rt_0              185   \n...         ...            ...                 ...    ...              ...   \n2520       2023              1             2023-S1  rt_12             1298   \n2521       2023              1             2023-S1  rt_18              645   \n2522       2023              1             2023-S1   rt_0              238   \n2523       2022              2             2022-S2   rt_0             1007   \n2524       2023              1             2023-S1   rt_0             1092   \n\n      numInicialAnimales  mortalidad  conversionAlimenticia  \n0                    226        2.65                 2.1760  \n1                    201        6.97                 2.2090  \n2                    203        4.43                 2.1350  \n3                    208        2.40                 2.1050  \n4                    189        2.12                 2.2220  \n...                  ...         ...                    ...  \n2520                1338        2.99                 2.4900  \n2521                 663        2.71                 2.2959  \n2522                 243        2.06                 2.0900  \n2523                1027        1.95                 2.1400  \n2524                1114        1.97                 2.0300  \n\n[2525 rows x 21 columns]",
      "text/html": "<div>\n<style scoped>\n    .dataframe tbody tr th:only-of-type {\n        vertical-align: middle;\n    }\n\n    .dataframe tbody tr th {\n        vertical-align: top;\n    }\n\n    .dataframe thead th {\n        text-align: right;\n    }\n</style>\n<table border=\"1\" class=\"dataframe\">\n  <thead>\n    <tr style=\"text-align: right;\">\n      <th></th>\n      <th>loteNo</th>\n      <th>departamento_anonym</th>\n      <th>empresa_anonym</th>\n      <th>granja_anonym</th>\n      <th>proveedorCorregido_anonym</th>\n      <th>fabricaAlimento</th>\n      <th>genetica</th>\n      <th>duracionCeba</th>\n      <th>edadFinal</th>\n      <th>edadInicial</th>\n      <th>...</th>\n      <th>pesoFinal</th>\n      <th>fechaSalida</th>\n      <th>anioSalida</th>\n      <th>semesreSalida</th>\n      <th>anioSemestreSalida</th>\n      <th>asesor</th>\n      <th>numFinalAnimales</th>\n      <th>numInicialAnimales</th>\n      <th>mortalidad</th>\n      <th>conversionAlimenticia</th>\n    </tr>\n  </thead>\n  <tbody>\n    <tr>\n      <th>0</th>\n      <td>5e4604c71c555bfa922bd644</td>\n      <td>dp_0</td>\n      <td>em_0</td>\n      <td>gr_0</td>\n      <td>pn_0</td>\n      <td>pp_0</td>\n      <td>lg_0</td>\n      <td>72.00</td>\n      <td>152.00</td>\n      <td>80.00</td>\n      <td>...</td>\n      <td>103.5600</td>\n      <td>9/09/2019</td>\n      <td>2019</td>\n      <td>2</td>\n      <td>2019-S2</td>\n      <td>rt_0</td>\n      <td>220</td>\n      <td>226</td>\n      <td>2.65</td>\n      <td>2.1760</td>\n    </tr>\n    <tr>\n      <th>1</th>\n      <td>5e4604c71c555bfa922bd68c</td>\n      <td>dp_0</td>\n      <td>em_0</td>\n      <td>gr_0</td>\n      <td>pn_0</td>\n      <td>pp_0</td>\n      <td>lg_0</td>\n      <td>81.00</td>\n      <td>154.00</td>\n      <td>73.00</td>\n      <td>...</td>\n      <td>100.6400</td>\n      <td>23/10/2019</td>\n      <td>2019</td>\n      <td>2</td>\n      <td>2019-S2</td>\n      <td>rt_0</td>\n      <td>187</td>\n      <td>201</td>\n      <td>6.97</td>\n      <td>2.2090</td>\n    </tr>\n    <tr>\n      <th>2</th>\n      <td>5e4604c71c555bfa922bd6b5</td>\n      <td>dp_0</td>\n      <td>em_0</td>\n      <td>gr_0</td>\n      <td>pn_0</td>\n      <td>pp_0</td>\n      <td>lg_0</td>\n      <td>79.00</td>\n      <td>152.00</td>\n      <td>73.00</td>\n      <td>...</td>\n      <td>102.0700</td>\n      <td>19/11/2019</td>\n      <td>2019</td>\n      <td>2</td>\n      <td>2019-S2</td>\n      <td>rt_0</td>\n      <td>194</td>\n      <td>203</td>\n      <td>4.43</td>\n      <td>2.1350</td>\n    </tr>\n    <tr>\n      <th>3</th>\n      <td>5ea0d184cbe8d10cee382f9b</td>\n      <td>dp_0</td>\n      <td>em_0</td>\n      <td>gr_0</td>\n      <td>pn_0</td>\n      <td>pp_0</td>\n      <td>lg_0</td>\n      <td>76.00</td>\n      <td>155.00</td>\n      <td>79.00</td>\n      <td>...</td>\n      <td>114.1200</td>\n      <td>13/03/2020</td>\n      <td>2020</td>\n      <td>1</td>\n      <td>2020-S1</td>\n      <td>rt_0</td>\n      <td>203</td>\n      <td>208</td>\n      <td>2.40</td>\n      <td>2.1050</td>\n    </tr>\n    <tr>\n      <th>4</th>\n      <td>5ef2216bde8636c49c3b8530</td>\n      <td>dp_0</td>\n      <td>em_0</td>\n      <td>gr_0</td>\n      <td>pn_0</td>\n      <td>pp_0</td>\n      <td>lg_0</td>\n      <td>74.00</td>\n      <td>154.00</td>\n      <td>80.00</td>\n      <td>...</td>\n      <td>118.6400</td>\n      <td>1/04/2020</td>\n      <td>2020</td>\n      <td>1</td>\n      <td>2020-S1</td>\n      <td>rt_0</td>\n      <td>185</td>\n      <td>189</td>\n      <td>2.12</td>\n      <td>2.2220</td>\n    </tr>\n    <tr>\n      <th>...</th>\n      <td>...</td>\n      <td>...</td>\n      <td>...</td>\n      <td>...</td>\n      <td>...</td>\n      <td>...</td>\n      <td>...</td>\n      <td>...</td>\n      <td>...</td>\n      <td>...</td>\n      <td>...</td>\n      <td>...</td>\n      <td>...</td>\n      <td>...</td>\n      <td>...</td>\n      <td>...</td>\n      <td>...</td>\n      <td>...</td>\n      <td>...</td>\n      <td>...</td>\n      <td>...</td>\n    </tr>\n    <tr>\n      <th>2520</th>\n      <td>6453f7e618bf3e15193e673b</td>\n      <td>dp_6</td>\n      <td>em_71</td>\n      <td>gr_81</td>\n      <td>pn_0</td>\n      <td>pp_2</td>\n      <td>lg_0</td>\n      <td>60.00</td>\n      <td>146.53</td>\n      <td>86.53</td>\n      <td>...</td>\n      <td>95.9700</td>\n      <td>30/03/2023</td>\n      <td>2023</td>\n      <td>1</td>\n      <td>2023-S1</td>\n      <td>rt_12</td>\n      <td>1298</td>\n      <td>1338</td>\n      <td>2.99</td>\n      <td>2.4900</td>\n    </tr>\n    <tr>\n      <th>2521</th>\n      <td>6455212918bf3e15197d4918</td>\n      <td>dp_3</td>\n      <td>em_63</td>\n      <td>gr_69</td>\n      <td>pn_6</td>\n      <td>pp_8</td>\n      <td>lg_0</td>\n      <td>93.19</td>\n      <td>165.16</td>\n      <td>71.97</td>\n      <td>...</td>\n      <td>122.3664</td>\n      <td>1/03/2023</td>\n      <td>2023</td>\n      <td>1</td>\n      <td>2023-S1</td>\n      <td>rt_18</td>\n      <td>645</td>\n      <td>663</td>\n      <td>2.71</td>\n      <td>2.2959</td>\n    </tr>\n    <tr>\n      <th>2522</th>\n      <td>6459810518bf3e1519b1d811</td>\n      <td>dp_0</td>\n      <td>em_75</td>\n      <td>gr_85</td>\n      <td>pn_0</td>\n      <td>pp_0</td>\n      <td>lg_0</td>\n      <td>83.00</td>\n      <td>155.09</td>\n      <td>72.09</td>\n      <td>...</td>\n      <td>95.8500</td>\n      <td>31/03/2023</td>\n      <td>2023</td>\n      <td>1</td>\n      <td>2023-S1</td>\n      <td>rt_0</td>\n      <td>238</td>\n      <td>243</td>\n      <td>2.06</td>\n      <td>2.0900</td>\n    </tr>\n    <tr>\n      <th>2523</th>\n      <td>645a406018bf3e1519de455c</td>\n      <td>dp_0</td>\n      <td>em_29</td>\n      <td>gr_30</td>\n      <td>pn_0</td>\n      <td>pp_0</td>\n      <td>lg_0</td>\n      <td>72.00</td>\n      <td>140.29</td>\n      <td>68.29</td>\n      <td>...</td>\n      <td>84.5100</td>\n      <td>6/08/2022</td>\n      <td>2022</td>\n      <td>2</td>\n      <td>2022-S2</td>\n      <td>rt_0</td>\n      <td>1007</td>\n      <td>1027</td>\n      <td>1.95</td>\n      <td>2.1400</td>\n    </tr>\n    <tr>\n      <th>2524</th>\n      <td>645a406018bf3e1519de4565</td>\n      <td>dp_0</td>\n      <td>em_29</td>\n      <td>gr_30</td>\n      <td>pn_0</td>\n      <td>pp_0</td>\n      <td>lg_0</td>\n      <td>69.00</td>\n      <td>139.35</td>\n      <td>70.35</td>\n      <td>...</td>\n      <td>97.1400</td>\n      <td>17/03/2023</td>\n      <td>2023</td>\n      <td>1</td>\n      <td>2023-S1</td>\n      <td>rt_0</td>\n      <td>1092</td>\n      <td>1114</td>\n      <td>1.97</td>\n      <td>2.0300</td>\n    </tr>\n  </tbody>\n</table>\n<p>2525 rows × 21 columns</p>\n</div>"
     },
     "execution_count": 6,
     "metadata": {},
     "output_type": "execute_result"
    }
   ],
   "source": [
    "df"
   ],
   "metadata": {
    "collapsed": false,
    "ExecuteTime": {
     "end_time": "2025-01-03T02:01:41.242342400Z",
     "start_time": "2025-01-03T02:01:41.164197400Z"
    }
   },
   "id": "3859b3e97b12cc3c"
  },
  {
   "cell_type": "code",
   "execution_count": 7,
   "outputs": [
    {
     "data": {
      "text/plain": "0"
     },
     "execution_count": 7,
     "metadata": {},
     "output_type": "execute_result"
    }
   ],
   "source": [
    "df[\"loteNo\"].duplicated().sum()"
   ],
   "metadata": {
    "collapsed": false,
    "ExecuteTime": {
     "end_time": "2025-01-03T02:01:42.208644600Z",
     "start_time": "2025-01-03T02:01:42.188637100Z"
    }
   },
   "id": "8b80760098626803"
  },
  {
   "cell_type": "code",
   "execution_count": 7,
   "outputs": [],
   "source": [],
   "metadata": {
    "collapsed": false,
    "ExecuteTime": {
     "end_time": "2025-01-03T02:01:44.438430Z",
     "start_time": "2025-01-03T02:01:44.415410300Z"
    }
   },
   "id": "6918593386c705f8"
  },
  {
   "cell_type": "code",
   "execution_count": 8,
   "outputs": [
    {
     "data": {
      "text/plain": "Summarize dataset:   0%|          | 0/5 [00:00<?, ?it/s]",
      "application/vnd.jupyter.widget-view+json": {
       "version_major": 2,
       "version_minor": 0,
       "model_id": "9f801b127e1e4a39a16557ea4ddc95c0"
      }
     },
     "metadata": {},
     "output_type": "display_data"
    },
    {
     "data": {
      "text/plain": "Generate report structure:   0%|          | 0/1 [00:00<?, ?it/s]",
      "application/vnd.jupyter.widget-view+json": {
       "version_major": 2,
       "version_minor": 0,
       "model_id": "41e71281431e41e08d291cecea04c818"
      }
     },
     "metadata": {},
     "output_type": "display_data"
    },
    {
     "data": {
      "text/plain": "Render HTML:   0%|          | 0/1 [00:00<?, ?it/s]",
      "application/vnd.jupyter.widget-view+json": {
       "version_major": 2,
       "version_minor": 0,
       "model_id": "c516ec608f73451784e2b8cb49bb1c2a"
      }
     },
     "metadata": {},
     "output_type": "display_data"
    },
    {
     "data": {
      "text/plain": "Export report to file:   0%|          | 0/1 [00:00<?, ?it/s]",
      "application/vnd.jupyter.widget-view+json": {
       "version_major": 2,
       "version_minor": 0,
       "model_id": "bb24f371dbad4e6c91d1373f3078d56d"
      }
     },
     "metadata": {},
     "output_type": "display_data"
    }
   ],
   "source": [
    "# Crear el informe\n",
    "profile = ProfileReport(df, title=\"Análisis del DataFrame\", explorative=True)\n",
    "profile.to_file(\"reporte.html\")"
   ],
   "metadata": {
    "collapsed": false,
    "ExecuteTime": {
     "end_time": "2025-01-03T02:02:13.932826200Z",
     "start_time": "2025-01-03T02:01:45.694288400Z"
    }
   },
   "id": "241c92f2ea011ede"
  },
  {
   "cell_type": "code",
   "execution_count": 9,
   "outputs": [
    {
     "data": {
      "text/plain": "                                             |          | [  0%]   00:00 -> (? left)",
      "application/vnd.jupyter.widget-view+json": {
       "version_major": 2,
       "version_minor": 0,
       "model_id": "c12c80b313b64c01809d64b9c5c141be"
      }
     },
     "metadata": {},
     "output_type": "display_data"
    }
   ],
   "source": [
    "\n",
    "\n",
    "# Crear el informe\n",
    "report = sv.analyze(df)"
   ],
   "metadata": {
    "collapsed": false,
    "ExecuteTime": {
     "end_time": "2025-01-03T02:03:02.202122600Z",
     "start_time": "2025-01-03T02:02:54.871776Z"
    }
   },
   "id": "6be9635d2d716d73"
  },
  {
   "cell_type": "code",
   "execution_count": 10,
   "outputs": [
    {
     "name": "stdout",
     "output_type": "stream",
     "text": [
      "Report reporte_sweetviz.html was generated! NOTEBOOK/COLAB USERS: the web browser MAY not pop up, regardless, the report IS saved in your notebook/colab files.\n"
     ]
    }
   ],
   "source": [
    "report.show_html(\"reporte_sweetviz.html\")"
   ],
   "metadata": {
    "collapsed": false,
    "ExecuteTime": {
     "end_time": "2025-01-03T02:03:03.734814500Z",
     "start_time": "2025-01-03T02:03:02.219023900Z"
    }
   },
   "id": "fae40bee337e31b1"
  },
  {
   "cell_type": "code",
   "execution_count": 11,
   "outputs": [
    {
     "data": {
      "text/plain": "Index(['loteNo', 'departamento_anonym', 'empresa_anonym', 'granja_anonym',\n       'proveedorCorregido_anonym', 'fabricaAlimento', 'genetica',\n       'duracionCeba', 'edadFinal', 'edadInicial', 'pesoInicial', 'pesoFinal',\n       'fechaSalida', 'anioSalida', 'semesreSalida', 'anioSemestreSalida',\n       'asesor', 'numFinalAnimales', 'numInicialAnimales', 'mortalidad',\n       'conversionAlimenticia'],\n      dtype='object')"
     },
     "execution_count": 11,
     "metadata": {},
     "output_type": "execute_result"
    }
   ],
   "source": [
    "df.columns"
   ],
   "metadata": {
    "collapsed": false,
    "ExecuteTime": {
     "end_time": "2025-01-03T02:03:03.749809900Z",
     "start_time": "2025-01-03T02:03:03.738808700Z"
    }
   },
   "id": "bb25f170dd045d2b"
  },
  {
   "cell_type": "code",
   "execution_count": 12,
   "outputs": [
    {
     "data": {
      "text/plain": "departamento_anonym\ndp_3    1215\ndp_1     453\ndp_0     386\ndp_2     368\ndp_5      74\ndp_6      11\ndp_7      10\ndp_4       8\nName: count, dtype: int64"
     },
     "execution_count": 12,
     "metadata": {},
     "output_type": "execute_result"
    }
   ],
   "source": [
    "df[\"departamento_anonym\"].value_counts(dropna=False)"
   ],
   "metadata": {
    "collapsed": false,
    "ExecuteTime": {
     "end_time": "2025-01-03T02:03:03.900073900Z",
     "start_time": "2025-01-03T02:03:03.875938300Z"
    }
   },
   "id": "caa18296ddeb71d4"
  },
  {
   "cell_type": "code",
   "execution_count": 13,
   "outputs": [
    {
     "data": {
      "text/plain": "empresa_anonym\nem_46    250\nem_2     119\nem_17    117\nem_41    115\nem_52    112\n        ... \nem_30      6\nem_74      6\nem_76      6\nem_62      5\nem_65      4\nName: count, Length: 77, dtype: int64"
     },
     "execution_count": 13,
     "metadata": {},
     "output_type": "execute_result"
    }
   ],
   "source": [
    "df[\"empresa_anonym\"].value_counts(dropna=False)"
   ],
   "metadata": {
    "collapsed": false,
    "ExecuteTime": {
     "end_time": "2025-01-03T02:03:05.411552100Z",
     "start_time": "2025-01-03T02:03:05.397544400Z"
    }
   },
   "id": "b02ac416b6f5adec"
  },
  {
   "cell_type": "code",
   "execution_count": 14,
   "outputs": [
    {
     "data": {
      "text/plain": "conversionAlimenticia\n2.1900    20\n2.0500    20\n2.1300    16\n2.2400    16\n2.2500    15\n          ..\n2.1115     1\n2.1741     1\n2.0526     1\n2.2317     1\n2.1587     1\nName: count, Length: 1692, dtype: int64"
     },
     "execution_count": 14,
     "metadata": {},
     "output_type": "execute_result"
    }
   ],
   "source": [
    "df[\"conversionAlimenticia\"].value_counts()"
   ],
   "metadata": {
    "collapsed": false,
    "ExecuteTime": {
     "end_time": "2025-01-03T02:03:07.367239800Z",
     "start_time": "2025-01-03T02:03:07.351121Z"
    }
   },
   "id": "6dd305a4e9e4d040"
  },
  {
   "cell_type": "markdown",
   "source": [
    "# Explicación de datos a partir de reportes obtenidos"
   ],
   "metadata": {
    "collapsed": false
   },
   "id": "80c236a3cd3a10b7"
  },
  {
   "cell_type": "markdown",
   "source": [
    "- Mas de la mitad de la muestra de cerdos analizada, pertenece a los departamentos\n",
    " dp_3 y dp_1.\n",
    "- Existen 13 empresas, pero más del 60% de los cerdos pertenecen a 3 empresas: e, m, -.\n",
    "- Existen 87 granjas distintas, lo cual hace que la población este bien distribuida,\n",
    "  siendo las granjas 48, 2 y 18 las que más lotes de cerdos distintos posee.}\n",
    "- Existen 9 fabricas de alimento, donde 5 de ellas contribuyen cada una menos del 10% de la población.\n",
    "- La genética de los lotes de cerdos principalmente se encuentra en lg_0.\n",
    "- El periodo de ceba o de engorne en los lotes análizados en general es de 84 semanas.\n",
    "- Este periodo esta altamente correlacionado con la edad final con la que sale cada lote de cerdos.\n",
    "- La edad inicial, aparenta una distribucción bimodal con modos en 72 y 79 semanas  y como es de esperar esta variable esta altamente correlacionada con el peso inicial.\n",
    "- Algo interesante es como cambia la distribución de pesos en el tiempo (peso inicial a final). Iniciamos con una distribución centrada en 31 kg y concluimos con una distribución con media en 113K e inclinada hacia la derecha, lo cual es bueno, por que se tiene al final una mayor diferencia entre de pesos, es decir una ganancia mayor de peso que provoca una conversión menor.\n",
    "- El periodo de salida es de el primer semestre del 2019 y el segundo del 2023.\n",
    "- Se tiene 26 acesores, siendo el más solicitado el tr_18.\n",
    "- La mortalidad media es de 1.8% pero tenemos extemos superiores (valores superiores al percentil 95) del 5%.\n",
    "- Tenemos nuestra variable de interés que es la conversión con un valor medio de 2.23, es decir, por cada 2.23 kg que come el cerdo, este incrementa en 1 su peso.\n",
    "- La Razón de Correlación mide la fuerza de asociación entre una variable categórica y una variable continua, nos muestra que la granja y la empresa y el asesor, fabrica de alimento están altamente correlacionados."
   ],
   "metadata": {
    "collapsed": false
   },
   "id": "a83b37f6a7a26cbb"
  },
  {
   "cell_type": "code",
   "execution_count": 19,
   "outputs": [],
   "source": [
    "cols = [\n",
    "     'fabricaAlimento',\n",
    "    'granja_anonym', \n",
    "    'genetica',\n",
    "    'pesoInicial',\n",
    "    'pesoFinal',\n",
    "    'semesreSalida',\n",
    "    'asesor',\n",
    "    'mortalidad',\n",
    "    'conversionAlimenticia'\n",
    "]"
   ],
   "metadata": {
    "collapsed": false,
    "ExecuteTime": {
     "end_time": "2025-01-03T02:04:34.128636800Z",
     "start_time": "2025-01-03T02:04:34.105635Z"
    }
   },
   "id": "378d98312a4a2663"
  },
  {
   "cell_type": "code",
   "execution_count": 20,
   "outputs": [
    {
     "data": {
      "text/plain": "     fabricaAlimento granja_anonym genetica  pesoInicial  pesoFinal  \\\n0               pp_0          gr_0     lg_0      30.9500   103.5600   \n1               pp_0          gr_0     lg_0      26.6100   100.6400   \n2               pp_0          gr_0     lg_0      28.3200   102.0700   \n3               pp_0          gr_0     lg_0      29.3400   114.1200   \n4               pp_0          gr_0     lg_0      34.0400   118.6400   \n...              ...           ...      ...          ...        ...   \n2520            pp_2         gr_81     lg_0      37.6400    95.9700   \n2521            pp_8         gr_69     lg_0      32.6621   122.3664   \n2522            pp_0         gr_85     lg_0      27.7200    95.8500   \n2523            pp_0         gr_30     lg_0      28.0400    84.5100   \n2524            pp_0         gr_30     lg_0      29.0000    97.1400   \n\n      semesreSalida asesor  mortalidad  conversionAlimenticia  \n0                 2   rt_0        2.65                 2.1760  \n1                 2   rt_0        6.97                 2.2090  \n2                 2   rt_0        4.43                 2.1350  \n3                 1   rt_0        2.40                 2.1050  \n4                 1   rt_0        2.12                 2.2220  \n...             ...    ...         ...                    ...  \n2520              1  rt_12        2.99                 2.4900  \n2521              1  rt_18        2.71                 2.2959  \n2522              1   rt_0        2.06                 2.0900  \n2523              2   rt_0        1.95                 2.1400  \n2524              1   rt_0        1.97                 2.0300  \n\n[2525 rows x 9 columns]",
      "text/html": "<div>\n<style scoped>\n    .dataframe tbody tr th:only-of-type {\n        vertical-align: middle;\n    }\n\n    .dataframe tbody tr th {\n        vertical-align: top;\n    }\n\n    .dataframe thead th {\n        text-align: right;\n    }\n</style>\n<table border=\"1\" class=\"dataframe\">\n  <thead>\n    <tr style=\"text-align: right;\">\n      <th></th>\n      <th>fabricaAlimento</th>\n      <th>granja_anonym</th>\n      <th>genetica</th>\n      <th>pesoInicial</th>\n      <th>pesoFinal</th>\n      <th>semesreSalida</th>\n      <th>asesor</th>\n      <th>mortalidad</th>\n      <th>conversionAlimenticia</th>\n    </tr>\n  </thead>\n  <tbody>\n    <tr>\n      <th>0</th>\n      <td>pp_0</td>\n      <td>gr_0</td>\n      <td>lg_0</td>\n      <td>30.9500</td>\n      <td>103.5600</td>\n      <td>2</td>\n      <td>rt_0</td>\n      <td>2.65</td>\n      <td>2.1760</td>\n    </tr>\n    <tr>\n      <th>1</th>\n      <td>pp_0</td>\n      <td>gr_0</td>\n      <td>lg_0</td>\n      <td>26.6100</td>\n      <td>100.6400</td>\n      <td>2</td>\n      <td>rt_0</td>\n      <td>6.97</td>\n      <td>2.2090</td>\n    </tr>\n    <tr>\n      <th>2</th>\n      <td>pp_0</td>\n      <td>gr_0</td>\n      <td>lg_0</td>\n      <td>28.3200</td>\n      <td>102.0700</td>\n      <td>2</td>\n      <td>rt_0</td>\n      <td>4.43</td>\n      <td>2.1350</td>\n    </tr>\n    <tr>\n      <th>3</th>\n      <td>pp_0</td>\n      <td>gr_0</td>\n      <td>lg_0</td>\n      <td>29.3400</td>\n      <td>114.1200</td>\n      <td>1</td>\n      <td>rt_0</td>\n      <td>2.40</td>\n      <td>2.1050</td>\n    </tr>\n    <tr>\n      <th>4</th>\n      <td>pp_0</td>\n      <td>gr_0</td>\n      <td>lg_0</td>\n      <td>34.0400</td>\n      <td>118.6400</td>\n      <td>1</td>\n      <td>rt_0</td>\n      <td>2.12</td>\n      <td>2.2220</td>\n    </tr>\n    <tr>\n      <th>...</th>\n      <td>...</td>\n      <td>...</td>\n      <td>...</td>\n      <td>...</td>\n      <td>...</td>\n      <td>...</td>\n      <td>...</td>\n      <td>...</td>\n      <td>...</td>\n    </tr>\n    <tr>\n      <th>2520</th>\n      <td>pp_2</td>\n      <td>gr_81</td>\n      <td>lg_0</td>\n      <td>37.6400</td>\n      <td>95.9700</td>\n      <td>1</td>\n      <td>rt_12</td>\n      <td>2.99</td>\n      <td>2.4900</td>\n    </tr>\n    <tr>\n      <th>2521</th>\n      <td>pp_8</td>\n      <td>gr_69</td>\n      <td>lg_0</td>\n      <td>32.6621</td>\n      <td>122.3664</td>\n      <td>1</td>\n      <td>rt_18</td>\n      <td>2.71</td>\n      <td>2.2959</td>\n    </tr>\n    <tr>\n      <th>2522</th>\n      <td>pp_0</td>\n      <td>gr_85</td>\n      <td>lg_0</td>\n      <td>27.7200</td>\n      <td>95.8500</td>\n      <td>1</td>\n      <td>rt_0</td>\n      <td>2.06</td>\n      <td>2.0900</td>\n    </tr>\n    <tr>\n      <th>2523</th>\n      <td>pp_0</td>\n      <td>gr_30</td>\n      <td>lg_0</td>\n      <td>28.0400</td>\n      <td>84.5100</td>\n      <td>2</td>\n      <td>rt_0</td>\n      <td>1.95</td>\n      <td>2.1400</td>\n    </tr>\n    <tr>\n      <th>2524</th>\n      <td>pp_0</td>\n      <td>gr_30</td>\n      <td>lg_0</td>\n      <td>29.0000</td>\n      <td>97.1400</td>\n      <td>1</td>\n      <td>rt_0</td>\n      <td>1.97</td>\n      <td>2.0300</td>\n    </tr>\n  </tbody>\n</table>\n<p>2525 rows × 9 columns</p>\n</div>"
     },
     "execution_count": 20,
     "metadata": {},
     "output_type": "execute_result"
    }
   ],
   "source": [
    "df[cols]"
   ],
   "metadata": {
    "collapsed": false,
    "ExecuteTime": {
     "end_time": "2025-01-03T02:04:34.706117300Z",
     "start_time": "2025-01-03T02:04:34.695541500Z"
    }
   },
   "id": "d8340398cd6edcdf"
  },
  {
   "cell_type": "code",
   "execution_count": 25,
   "outputs": [],
   "source": [
    "# Filtrar columnas relevantes para el análisis\n",
    "selected_columns = [\n",
    "    \"fabricaAlimento\", \"granja_anonym\", \"genética\", \n",
    "    \"pesoInicial\", \"pesoFinal\", \"semesreSalida\", \n",
    "    \"asesor\", \"mortalidad\", \"conversionAlimenticia\"\n",
    "]\n",
    "\n",
    "data_filtered = df[selected_columns]\n",
    "\n",
    "# Generar análisis descriptivo\n",
    "numeric_summary = data_filtered.describe(include=[float, int])\n",
    "categorical_summary = data_filtered.describe(include=[object])\n",
    "\n",
    "# Verificar valores faltantes\n",
    "missing_values_summary = data_filtered.isnull().sum()\n",
    "\n",
    "# Exportar reportes\n"
   ],
   "metadata": {
    "collapsed": false,
    "ExecuteTime": {
     "end_time": "2024-12-31T18:15:10.567772600Z",
     "start_time": "2024-12-31T18:15:10.533566800Z"
    }
   },
   "id": "3a93eaa522c1760"
  },
  {
   "cell_type": "code",
   "execution_count": 26,
   "outputs": [
    {
     "data": {
      "text/plain": "fabricaAlimento          0\ngranja_anonym            0\ngenética                 0\npesoInicial              0\npesoFinal                0\nsemesreSalida            0\nasesor                   0\nmortalidad               0\nconversionAlimenticia    0\ndtype: int64"
     },
     "execution_count": 26,
     "metadata": {},
     "output_type": "execute_result"
    }
   ],
   "source": [
    "missing_values_summary"
   ],
   "metadata": {
    "collapsed": false,
    "ExecuteTime": {
     "end_time": "2024-12-31T18:15:16.749012400Z",
     "start_time": "2024-12-31T18:15:16.691658Z"
    }
   },
   "id": "6db199f1713034ba"
  },
  {
   "cell_type": "code",
   "execution_count": 27,
   "outputs": [],
   "source": [
    "data_encoded = pd.get_dummies(data_filtered, columns=[\n",
    "    \"fabricaAlimento\", \"granja_anonym\", \"genética\", \"semesreSalida\", \"asesor\"\n",
    "], drop_first=True)\n",
    "\n",
    "# Separar predictores y objetivo\n",
    "X = data_encoded.drop(columns=[\"conversionAlimenticia\"])\n",
    "y = data_encoded[\"conversionAlimenticia\"]"
   ],
   "metadata": {
    "collapsed": false,
    "ExecuteTime": {
     "end_time": "2024-12-31T18:16:05.975830600Z",
     "start_time": "2024-12-31T18:16:05.916620300Z"
    }
   },
   "id": "2ecf8d0f26235319"
  },
  {
   "cell_type": "code",
   "execution_count": 28,
   "outputs": [],
   "source": [
    "import pandas as pd\n",
    "from sklearn.model_selection import train_test_split\n",
    "from sklearn.linear_model import LinearRegression\n",
    "from sklearn.tree import DecisionTreeRegressor\n",
    "from sklearn.ensemble import GradientBoostingRegressor\n",
    "from sklearn.metrics import r2_score, mean_absolute_error, mean_squared_error\n",
    "\n"
   ],
   "metadata": {
    "collapsed": false,
    "ExecuteTime": {
     "end_time": "2024-12-31T18:16:39.247462Z",
     "start_time": "2024-12-31T18:16:38.711888700Z"
    }
   },
   "id": "42b00ca495c2bb1a"
  },
  {
   "cell_type": "code",
   "execution_count": 29,
   "outputs": [],
   "source": [
    "# Dividir en conjunto de entrenamiento y prueba\n",
    "X_train, X_test, y_train, y_test = train_test_split(X, y, test_size=0.3, random_state=42)\n",
    "\n",
    "# Entrenar y evaluar modelos\n",
    "results = {}\n",
    "\n",
    "# 1. Regresión Lineal\n",
    "lr_model = LinearRegression()\n",
    "lr_model.fit(X_train, y_train)\n",
    "y_pred_lr = lr_model.predict(X_test)\n",
    "results['Linear Regression'] = {\n",
    "    \"R2\": r2_score(y_test, y_pred_lr),\n",
    "    \"MAE\": mean_absolute_error(y_test, y_pred_lr),\n",
    "    \"RMSE\": mean_squared_error(y_test, y_pred_lr, squared=False)\n",
    "}\n",
    "\n",
    "# 2. Árbol de Decisión\n",
    "dt_model = DecisionTreeRegressor(random_state=42)\n",
    "dt_model.fit(X_train, y_train)\n",
    "y_pred_dt = dt_model.predict(X_test)\n",
    "results['Decision Tree'] = {\n",
    "    \"R2\": r2_score(y_test, y_pred_dt),\n",
    "    \"MAE\": mean_absolute_error(y_test, y_pred_dt),\n",
    "    \"RMSE\": mean_squared_error(y_test, y_pred_dt, squared=False)\n",
    "}\n",
    "\n",
    "# 3. Gradient Boosting\n",
    "gb_model = GradientBoostingRegressor(random_state=42)\n",
    "gb_model.fit(X_train, y_train)\n",
    "y_pred_gb = gb_model.predict(X_test)\n",
    "results['Gradient Boosting'] = {\n",
    "    \"R2\": r2_score(y_test, y_pred_gb),\n",
    "    \"MAE\": mean_absolute_error(y_test, y_pred_gb),\n",
    "    \"RMSE\": mean_squared_error(y_test, y_pred_gb, squared=False)\n",
    "}\n",
    "\n"
   ],
   "metadata": {
    "collapsed": false,
    "ExecuteTime": {
     "end_time": "2024-12-31T18:16:41.946307300Z",
     "start_time": "2024-12-31T18:16:41.172579500Z"
    }
   },
   "id": "199b33c5d72c315d"
  },
  {
   "cell_type": "code",
   "execution_count": 30,
   "outputs": [
    {
     "data": {
      "text/plain": "                         R2       MAE      RMSE\nLinear Regression  0.398822  0.084539  0.116976\nDecision Tree     -0.036215  0.112706  0.153575\nGradient Boosting  0.419803  0.085309  0.114916",
      "text/html": "<div>\n<style scoped>\n    .dataframe tbody tr th:only-of-type {\n        vertical-align: middle;\n    }\n\n    .dataframe tbody tr th {\n        vertical-align: top;\n    }\n\n    .dataframe thead th {\n        text-align: right;\n    }\n</style>\n<table border=\"1\" class=\"dataframe\">\n  <thead>\n    <tr style=\"text-align: right;\">\n      <th></th>\n      <th>R2</th>\n      <th>MAE</th>\n      <th>RMSE</th>\n    </tr>\n  </thead>\n  <tbody>\n    <tr>\n      <th>Linear Regression</th>\n      <td>0.398822</td>\n      <td>0.084539</td>\n      <td>0.116976</td>\n    </tr>\n    <tr>\n      <th>Decision Tree</th>\n      <td>-0.036215</td>\n      <td>0.112706</td>\n      <td>0.153575</td>\n    </tr>\n    <tr>\n      <th>Gradient Boosting</th>\n      <td>0.419803</td>\n      <td>0.085309</td>\n      <td>0.114916</td>\n    </tr>\n  </tbody>\n</table>\n</div>"
     },
     "execution_count": 30,
     "metadata": {},
     "output_type": "execute_result"
    }
   ],
   "source": [
    "# Convertir resultados a DataFrame para mejor visualización\n",
    "pd.DataFrame(results).T"
   ],
   "metadata": {
    "collapsed": false,
    "ExecuteTime": {
     "end_time": "2024-12-31T18:17:02.292492700Z",
     "start_time": "2024-12-31T18:17:02.259213300Z"
    }
   },
   "id": "dfd104546b6dacb"
  },
  {
   "cell_type": "code",
   "execution_count": 32,
   "outputs": [
    {
     "name": "stderr",
     "output_type": "stream",
     "text": [
      "C:\\Users\\Asus\\AppData\\Local\\Temp\\ipykernel_6360\\1496521656.py:14: UserWarning: Matplotlib is currently using module://matplotlib_inline.backend_inline, which is a non-GUI backend, so cannot show the figure.\n",
      "  plt.show()\n"
     ]
    }
   ],
   "source": [
    "import matplotlib.pyplot as plt\n",
    "\n",
    "# Obtener las importancias de las características del modelo Gradient Boosting\n",
    "feature_importances = pd.Series(gb_model.feature_importances_, index=X.columns)\n",
    "feature_importances_sorted = feature_importances.sort_values(ascending=False)\n",
    "\n",
    "# Visualizar las importancias\n",
    "plt.figure(figsize=(10, 6))\n",
    "feature_importances_sorted.head(10).plot(kind='bar')\n",
    "plt.title('Top 10 Variables Más Importantes (Gradient Boosting)')\n",
    "plt.ylabel('Importancia')\n",
    "plt.xlabel('Variable')\n",
    "plt.tight_layout()\n",
    "plt.show()\n",
    "\n",
    "# Mostrar las importancias en un DataFrame\n",
    "important_features_df = feature_importances_sorted.reset_index()\n",
    "important_features_df.columns = ['Variable', 'Importancia']\n",
    "\n"
   ],
   "metadata": {
    "collapsed": false,
    "ExecuteTime": {
     "end_time": "2024-12-31T18:17:46.446056900Z",
     "start_time": "2024-12-31T18:17:46.357093900Z"
    }
   },
   "id": "29ae06fd6a47a0b1"
  },
  {
   "cell_type": "code",
   "execution_count": 34,
   "outputs": [
    {
     "name": "stderr",
     "output_type": "stream",
     "text": [
      "C:\\Users\\Asus\\AppData\\Local\\Temp\\ipykernel_6360\\1669027260.py:14: UserWarning: Matplotlib is currently using module://matplotlib_inline.backend_inline, which is a non-GUI backend, so cannot show the figure.\n",
      "  plt.show()\n"
     ]
    }
   ],
   "source": [
    "import matplotlib.pyplot as plt\n",
    "\n",
    "# Obtener las importancias de las características del modelo Gradient Boosting\n",
    "feature_importances = pd.Series(gb_model.feature_importances_, index=X.columns)\n",
    "feature_importances_sorted = feature_importances.sort_values(ascending=False)\n",
    "\n",
    "# Visualizar las importancias\n",
    "plt.figure(figsize=(10, 6))\n",
    "feature_importances_sorted.head(10).plot(kind='bar')\n",
    "plt.title('Top 10 Variables Más Importantes (Gradient Boosting)')\n",
    "plt.ylabel('Importancia')\n",
    "plt.xlabel('Variable')\n",
    "plt.tight_layout()\n",
    "plt.show()\n",
    "\n",
    "\n",
    "\n"
   ],
   "metadata": {
    "collapsed": false,
    "ExecuteTime": {
     "end_time": "2024-12-31T18:21:38.292535600Z",
     "start_time": "2024-12-31T18:21:38.216716Z"
    }
   },
   "id": "82e666ed691acc71"
  },
  {
   "cell_type": "code",
   "execution_count": 35,
   "outputs": [
    {
     "data": {
      "text/plain": "                 Variable  Importancia\n0              mortalidad     0.147997\n1             pesoInicial     0.117017\n2               pesoFinal     0.093945\n3    fabricaAlimento_pp_3     0.081590\n4             asesor_rt_2     0.072888\n..                    ...          ...\n124    granja_anonym_gr_5     0.000000\n125   granja_anonym_gr_49     0.000000\n126   granja_anonym_gr_46     0.000000\n127   granja_anonym_gr_45     0.000000\n128           asesor_rt_9     0.000000\n\n[129 rows x 2 columns]",
      "text/html": "<div>\n<style scoped>\n    .dataframe tbody tr th:only-of-type {\n        vertical-align: middle;\n    }\n\n    .dataframe tbody tr th {\n        vertical-align: top;\n    }\n\n    .dataframe thead th {\n        text-align: right;\n    }\n</style>\n<table border=\"1\" class=\"dataframe\">\n  <thead>\n    <tr style=\"text-align: right;\">\n      <th></th>\n      <th>Variable</th>\n      <th>Importancia</th>\n    </tr>\n  </thead>\n  <tbody>\n    <tr>\n      <th>0</th>\n      <td>mortalidad</td>\n      <td>0.147997</td>\n    </tr>\n    <tr>\n      <th>1</th>\n      <td>pesoInicial</td>\n      <td>0.117017</td>\n    </tr>\n    <tr>\n      <th>2</th>\n      <td>pesoFinal</td>\n      <td>0.093945</td>\n    </tr>\n    <tr>\n      <th>3</th>\n      <td>fabricaAlimento_pp_3</td>\n      <td>0.081590</td>\n    </tr>\n    <tr>\n      <th>4</th>\n      <td>asesor_rt_2</td>\n      <td>0.072888</td>\n    </tr>\n    <tr>\n      <th>...</th>\n      <td>...</td>\n      <td>...</td>\n    </tr>\n    <tr>\n      <th>124</th>\n      <td>granja_anonym_gr_5</td>\n      <td>0.000000</td>\n    </tr>\n    <tr>\n      <th>125</th>\n      <td>granja_anonym_gr_49</td>\n      <td>0.000000</td>\n    </tr>\n    <tr>\n      <th>126</th>\n      <td>granja_anonym_gr_46</td>\n      <td>0.000000</td>\n    </tr>\n    <tr>\n      <th>127</th>\n      <td>granja_anonym_gr_45</td>\n      <td>0.000000</td>\n    </tr>\n    <tr>\n      <th>128</th>\n      <td>asesor_rt_9</td>\n      <td>0.000000</td>\n    </tr>\n  </tbody>\n</table>\n<p>129 rows × 2 columns</p>\n</div>"
     },
     "execution_count": 35,
     "metadata": {},
     "output_type": "execute_result"
    }
   ],
   "source": [
    "# Mostrar las importancias en un DataFrame\n",
    "important_features_df = feature_importances_sorted.reset_index()\n",
    "important_features_df.columns = ['Variable', 'Importancia']\n",
    "important_features_df"
   ],
   "metadata": {
    "collapsed": false,
    "ExecuteTime": {
     "end_time": "2024-12-31T18:21:58.033852700Z",
     "start_time": "2024-12-31T18:21:57.986929600Z"
    }
   },
   "id": "f1604d5a8c452462"
  },
  {
   "cell_type": "code",
   "execution_count": 36,
   "outputs": [],
   "source": [
    "# Calcular los residuales\n",
    "residuals = y_test - y_pred_gb\n",
    "\n",
    "# Crear un DataFrame con las predicciones, valores reales y residuales\n",
    "deviation_analysis = pd.DataFrame({\n",
    "    \"Real\": y_test,\n",
    "    \"Predicted\": y_pred_gb,\n",
    "    \"Residual\": residuals\n",
    "}, index=y_test.index)\n",
    "\n",
    "# Agregar las características originales para un análisis más profundo\n",
    "deviation_analysis = pd.concat([deviation_analysis, X_test.reset_index(drop=True)], axis=1)\n",
    "\n",
    "# Identificar los lotes con mayor desviación (residuales más altos o más bajos)\n",
    "most_deviated = deviation_analysis.sort_values(by=\"Residual\", ascending=False).head(10)\n",
    "least_deviated = deviation_analysis.sort_values(by=\"Residual\", ascending=True).head(10)\n",
    "\n",
    "\n"
   ],
   "metadata": {
    "collapsed": false,
    "ExecuteTime": {
     "end_time": "2024-12-31T18:23:11.680868500Z",
     "start_time": "2024-12-31T18:23:11.649610900Z"
    }
   },
   "id": "71aff1e3d0f21dc3"
  },
  {
   "cell_type": "code",
   "execution_count": 37,
   "outputs": [
    {
     "data": {
      "text/plain": "        Real  Predicted  Residual  pesoInicial  pesoFinal  mortalidad  \\\n1330  1.8376   2.324775 -0.487175          NaN        NaN         NaN   \n2370  1.9500   2.412207 -0.462207          NaN        NaN         NaN   \n1655  1.8853   2.286994 -0.401694          NaN        NaN         NaN   \n2510  2.0910   2.485230 -0.394230          NaN        NaN         NaN   \n1097  1.9215   2.247519 -0.326019          NaN        NaN         NaN   \n1607  2.0881   2.406668 -0.318568          NaN        NaN         NaN   \n2283  1.8300   2.145319 -0.315319          NaN        NaN         NaN   \n278   2.1202   2.417085 -0.296885      30.2539   124.2860        1.21   \n1608  2.1355   2.431404 -0.295904          NaN        NaN         NaN   \n69    1.8370   2.108928 -0.271928      28.9975    88.3013        1.74   \n\n     fabricaAlimento_pp_1 fabricaAlimento_pp_2 fabricaAlimento_pp_3  \\\n1330                  NaN                  NaN                  NaN   \n2370                  NaN                  NaN                  NaN   \n1655                  NaN                  NaN                  NaN   \n2510                  NaN                  NaN                  NaN   \n1097                  NaN                  NaN                  NaN   \n1607                  NaN                  NaN                  NaN   \n2283                  NaN                  NaN                  NaN   \n278                 False                False                False   \n1608                  NaN                  NaN                  NaN   \n69                  False                False                False   \n\n     fabricaAlimento_pp_4  ... asesor_rt_23 asesor_rt_24 asesor_rt_25  \\\n1330                  NaN  ...          NaN          NaN          NaN   \n2370                  NaN  ...          NaN          NaN          NaN   \n1655                  NaN  ...          NaN          NaN          NaN   \n2510                  NaN  ...          NaN          NaN          NaN   \n1097                  NaN  ...          NaN          NaN          NaN   \n1607                  NaN  ...          NaN          NaN          NaN   \n2283                  NaN  ...          NaN          NaN          NaN   \n278                 False  ...        False        False        False   \n1608                  NaN  ...          NaN          NaN          NaN   \n69                  False  ...        False        False        False   \n\n     asesor_rt_3 asesor_rt_4 asesor_rt_5 asesor_rt_6 asesor_rt_7 asesor_rt_8  \\\n1330         NaN         NaN         NaN         NaN         NaN         NaN   \n2370         NaN         NaN         NaN         NaN         NaN         NaN   \n1655         NaN         NaN         NaN         NaN         NaN         NaN   \n2510         NaN         NaN         NaN         NaN         NaN         NaN   \n1097         NaN         NaN         NaN         NaN         NaN         NaN   \n1607         NaN         NaN         NaN         NaN         NaN         NaN   \n2283         NaN         NaN         NaN         NaN         NaN         NaN   \n278        False       False       False       False       False       False   \n1608         NaN         NaN         NaN         NaN         NaN         NaN   \n69         False       False       False       False       False       False   \n\n     asesor_rt_9  \n1330         NaN  \n2370         NaN  \n1655         NaN  \n2510         NaN  \n1097         NaN  \n1607         NaN  \n2283         NaN  \n278        False  \n1608         NaN  \n69         False  \n\n[10 rows x 132 columns]",
      "text/html": "<div>\n<style scoped>\n    .dataframe tbody tr th:only-of-type {\n        vertical-align: middle;\n    }\n\n    .dataframe tbody tr th {\n        vertical-align: top;\n    }\n\n    .dataframe thead th {\n        text-align: right;\n    }\n</style>\n<table border=\"1\" class=\"dataframe\">\n  <thead>\n    <tr style=\"text-align: right;\">\n      <th></th>\n      <th>Real</th>\n      <th>Predicted</th>\n      <th>Residual</th>\n      <th>pesoInicial</th>\n      <th>pesoFinal</th>\n      <th>mortalidad</th>\n      <th>fabricaAlimento_pp_1</th>\n      <th>fabricaAlimento_pp_2</th>\n      <th>fabricaAlimento_pp_3</th>\n      <th>fabricaAlimento_pp_4</th>\n      <th>...</th>\n      <th>asesor_rt_23</th>\n      <th>asesor_rt_24</th>\n      <th>asesor_rt_25</th>\n      <th>asesor_rt_3</th>\n      <th>asesor_rt_4</th>\n      <th>asesor_rt_5</th>\n      <th>asesor_rt_6</th>\n      <th>asesor_rt_7</th>\n      <th>asesor_rt_8</th>\n      <th>asesor_rt_9</th>\n    </tr>\n  </thead>\n  <tbody>\n    <tr>\n      <th>1330</th>\n      <td>1.8376</td>\n      <td>2.324775</td>\n      <td>-0.487175</td>\n      <td>NaN</td>\n      <td>NaN</td>\n      <td>NaN</td>\n      <td>NaN</td>\n      <td>NaN</td>\n      <td>NaN</td>\n      <td>NaN</td>\n      <td>...</td>\n      <td>NaN</td>\n      <td>NaN</td>\n      <td>NaN</td>\n      <td>NaN</td>\n      <td>NaN</td>\n      <td>NaN</td>\n      <td>NaN</td>\n      <td>NaN</td>\n      <td>NaN</td>\n      <td>NaN</td>\n    </tr>\n    <tr>\n      <th>2370</th>\n      <td>1.9500</td>\n      <td>2.412207</td>\n      <td>-0.462207</td>\n      <td>NaN</td>\n      <td>NaN</td>\n      <td>NaN</td>\n      <td>NaN</td>\n      <td>NaN</td>\n      <td>NaN</td>\n      <td>NaN</td>\n      <td>...</td>\n      <td>NaN</td>\n      <td>NaN</td>\n      <td>NaN</td>\n      <td>NaN</td>\n      <td>NaN</td>\n      <td>NaN</td>\n      <td>NaN</td>\n      <td>NaN</td>\n      <td>NaN</td>\n      <td>NaN</td>\n    </tr>\n    <tr>\n      <th>1655</th>\n      <td>1.8853</td>\n      <td>2.286994</td>\n      <td>-0.401694</td>\n      <td>NaN</td>\n      <td>NaN</td>\n      <td>NaN</td>\n      <td>NaN</td>\n      <td>NaN</td>\n      <td>NaN</td>\n      <td>NaN</td>\n      <td>...</td>\n      <td>NaN</td>\n      <td>NaN</td>\n      <td>NaN</td>\n      <td>NaN</td>\n      <td>NaN</td>\n      <td>NaN</td>\n      <td>NaN</td>\n      <td>NaN</td>\n      <td>NaN</td>\n      <td>NaN</td>\n    </tr>\n    <tr>\n      <th>2510</th>\n      <td>2.0910</td>\n      <td>2.485230</td>\n      <td>-0.394230</td>\n      <td>NaN</td>\n      <td>NaN</td>\n      <td>NaN</td>\n      <td>NaN</td>\n      <td>NaN</td>\n      <td>NaN</td>\n      <td>NaN</td>\n      <td>...</td>\n      <td>NaN</td>\n      <td>NaN</td>\n      <td>NaN</td>\n      <td>NaN</td>\n      <td>NaN</td>\n      <td>NaN</td>\n      <td>NaN</td>\n      <td>NaN</td>\n      <td>NaN</td>\n      <td>NaN</td>\n    </tr>\n    <tr>\n      <th>1097</th>\n      <td>1.9215</td>\n      <td>2.247519</td>\n      <td>-0.326019</td>\n      <td>NaN</td>\n      <td>NaN</td>\n      <td>NaN</td>\n      <td>NaN</td>\n      <td>NaN</td>\n      <td>NaN</td>\n      <td>NaN</td>\n      <td>...</td>\n      <td>NaN</td>\n      <td>NaN</td>\n      <td>NaN</td>\n      <td>NaN</td>\n      <td>NaN</td>\n      <td>NaN</td>\n      <td>NaN</td>\n      <td>NaN</td>\n      <td>NaN</td>\n      <td>NaN</td>\n    </tr>\n    <tr>\n      <th>1607</th>\n      <td>2.0881</td>\n      <td>2.406668</td>\n      <td>-0.318568</td>\n      <td>NaN</td>\n      <td>NaN</td>\n      <td>NaN</td>\n      <td>NaN</td>\n      <td>NaN</td>\n      <td>NaN</td>\n      <td>NaN</td>\n      <td>...</td>\n      <td>NaN</td>\n      <td>NaN</td>\n      <td>NaN</td>\n      <td>NaN</td>\n      <td>NaN</td>\n      <td>NaN</td>\n      <td>NaN</td>\n      <td>NaN</td>\n      <td>NaN</td>\n      <td>NaN</td>\n    </tr>\n    <tr>\n      <th>2283</th>\n      <td>1.8300</td>\n      <td>2.145319</td>\n      <td>-0.315319</td>\n      <td>NaN</td>\n      <td>NaN</td>\n      <td>NaN</td>\n      <td>NaN</td>\n      <td>NaN</td>\n      <td>NaN</td>\n      <td>NaN</td>\n      <td>...</td>\n      <td>NaN</td>\n      <td>NaN</td>\n      <td>NaN</td>\n      <td>NaN</td>\n      <td>NaN</td>\n      <td>NaN</td>\n      <td>NaN</td>\n      <td>NaN</td>\n      <td>NaN</td>\n      <td>NaN</td>\n    </tr>\n    <tr>\n      <th>278</th>\n      <td>2.1202</td>\n      <td>2.417085</td>\n      <td>-0.296885</td>\n      <td>30.2539</td>\n      <td>124.2860</td>\n      <td>1.21</td>\n      <td>False</td>\n      <td>False</td>\n      <td>False</td>\n      <td>False</td>\n      <td>...</td>\n      <td>False</td>\n      <td>False</td>\n      <td>False</td>\n      <td>False</td>\n      <td>False</td>\n      <td>False</td>\n      <td>False</td>\n      <td>False</td>\n      <td>False</td>\n      <td>False</td>\n    </tr>\n    <tr>\n      <th>1608</th>\n      <td>2.1355</td>\n      <td>2.431404</td>\n      <td>-0.295904</td>\n      <td>NaN</td>\n      <td>NaN</td>\n      <td>NaN</td>\n      <td>NaN</td>\n      <td>NaN</td>\n      <td>NaN</td>\n      <td>NaN</td>\n      <td>...</td>\n      <td>NaN</td>\n      <td>NaN</td>\n      <td>NaN</td>\n      <td>NaN</td>\n      <td>NaN</td>\n      <td>NaN</td>\n      <td>NaN</td>\n      <td>NaN</td>\n      <td>NaN</td>\n      <td>NaN</td>\n    </tr>\n    <tr>\n      <th>69</th>\n      <td>1.8370</td>\n      <td>2.108928</td>\n      <td>-0.271928</td>\n      <td>28.9975</td>\n      <td>88.3013</td>\n      <td>1.74</td>\n      <td>False</td>\n      <td>False</td>\n      <td>False</td>\n      <td>False</td>\n      <td>...</td>\n      <td>False</td>\n      <td>False</td>\n      <td>False</td>\n      <td>False</td>\n      <td>False</td>\n      <td>False</td>\n      <td>False</td>\n      <td>False</td>\n      <td>False</td>\n      <td>False</td>\n    </tr>\n  </tbody>\n</table>\n<p>10 rows × 132 columns</p>\n</div>"
     },
     "execution_count": 37,
     "metadata": {},
     "output_type": "execute_result"
    }
   ],
   "source": [
    "least_deviated"
   ],
   "metadata": {
    "collapsed": false,
    "ExecuteTime": {
     "end_time": "2024-12-31T18:23:15.767658300Z",
     "start_time": "2024-12-31T18:23:15.705152500Z"
    }
   },
   "id": "a92f843b24551ea1"
  },
  {
   "cell_type": "code",
   "execution_count": 38,
   "outputs": [],
   "source": [
    "# Variables categóricas a analizar\n",
    "categorical_vars = [\"asesor\", \"fabricaAlimento\", \"granja_anonym\", \"genética\"]\n",
    "\n",
    "# Crear un DataFrame para guardar los resultados\n",
    "marginal_effects = []\n",
    "\n",
    "# Calcular promedios, mejores y peores niveles\n",
    "for var in categorical_vars:\n",
    "    category_stats = data_filtered.groupby(var)[\"conversionAlimenticia\"].mean()\n",
    "    best_level = category_stats.idxmin()\n",
    "    worst_level = category_stats.idxmax()\n",
    "    best_value = category_stats.min()\n",
    "    worst_value = category_stats.max()\n",
    "    marginal_effect = worst_value - best_value\n",
    "\n",
    "    # Guardar resultados\n",
    "    marginal_effects.append({\n",
    "        \"Variable\": var,\n",
    "        \"Best Level\": best_level,\n",
    "        \"Worst Level\": worst_level,\n",
    "        \"Best Conversion\": best_value,\n",
    "        \"Worst Conversion\": worst_value,\n",
    "        \"Marginal Effect\": marginal_effect\n",
    "    })\n",
    "\n",
    "# Convertir a DataFrame para visualización\n",
    "marginal_effects_df = pd.DataFrame(marginal_effects)\n",
    "\n",
    "# Calcular la diferencia en alimento y su valorización\n",
    "# Suposición: 190 kg de peso ganado por cada cerdo (220 kg - 30 kg)\n",
    "population = 200_000\n",
    "weight_gain = 190\n",
    "cost_per_kg = 2500\n",
    "\n",
    "marginal_effects_df[\"Feed Difference (kg)\"] = marginal_effects_df[\"Marginal Effect\"] * weight_gain * population\n",
    "marginal_effects_df[\"Valuation (COP)\"] = marginal_effects_df[\"Feed Difference (kg)\"] * cost_per_kg\n"
   ],
   "metadata": {
    "collapsed": false,
    "ExecuteTime": {
     "end_time": "2024-12-31T18:44:00.971798300Z",
     "start_time": "2024-12-31T18:44:00.907744600Z"
    }
   },
   "id": "9a2215e36c7ad243"
  },
  {
   "cell_type": "code",
   "execution_count": 39,
   "outputs": [
    {
     "data": {
      "text/plain": "          Variable Best Level Worst Level  Best Conversion  Worst Conversion  \\\n0           asesor       rt_2       rt_11         2.069838          2.427260   \n1  fabricaAlimento       pp_0        pp_6         2.146760          2.377620   \n2    granja_anonym       gr_2       gr_25         2.064328          2.621629   \n3         genética       lg_5        lg_6         2.214083          2.530129   \n\n   Marginal Effect  Feed Difference (kg)  Valuation (COP)  \n0         0.357422          1.358205e+07     3.395511e+10  \n1         0.230860          8.772681e+06     2.193170e+10  \n2         0.557301          2.117743e+07     5.294358e+10  \n3         0.316046          1.200975e+07     3.002437e+10  ",
      "text/html": "<div>\n<style scoped>\n    .dataframe tbody tr th:only-of-type {\n        vertical-align: middle;\n    }\n\n    .dataframe tbody tr th {\n        vertical-align: top;\n    }\n\n    .dataframe thead th {\n        text-align: right;\n    }\n</style>\n<table border=\"1\" class=\"dataframe\">\n  <thead>\n    <tr style=\"text-align: right;\">\n      <th></th>\n      <th>Variable</th>\n      <th>Best Level</th>\n      <th>Worst Level</th>\n      <th>Best Conversion</th>\n      <th>Worst Conversion</th>\n      <th>Marginal Effect</th>\n      <th>Feed Difference (kg)</th>\n      <th>Valuation (COP)</th>\n    </tr>\n  </thead>\n  <tbody>\n    <tr>\n      <th>0</th>\n      <td>asesor</td>\n      <td>rt_2</td>\n      <td>rt_11</td>\n      <td>2.069838</td>\n      <td>2.427260</td>\n      <td>0.357422</td>\n      <td>1.358205e+07</td>\n      <td>3.395511e+10</td>\n    </tr>\n    <tr>\n      <th>1</th>\n      <td>fabricaAlimento</td>\n      <td>pp_0</td>\n      <td>pp_6</td>\n      <td>2.146760</td>\n      <td>2.377620</td>\n      <td>0.230860</td>\n      <td>8.772681e+06</td>\n      <td>2.193170e+10</td>\n    </tr>\n    <tr>\n      <th>2</th>\n      <td>granja_anonym</td>\n      <td>gr_2</td>\n      <td>gr_25</td>\n      <td>2.064328</td>\n      <td>2.621629</td>\n      <td>0.557301</td>\n      <td>2.117743e+07</td>\n      <td>5.294358e+10</td>\n    </tr>\n    <tr>\n      <th>3</th>\n      <td>genética</td>\n      <td>lg_5</td>\n      <td>lg_6</td>\n      <td>2.214083</td>\n      <td>2.530129</td>\n      <td>0.316046</td>\n      <td>1.200975e+07</td>\n      <td>3.002437e+10</td>\n    </tr>\n  </tbody>\n</table>\n</div>"
     },
     "execution_count": 39,
     "metadata": {},
     "output_type": "execute_result"
    }
   ],
   "source": [
    "marginal_effects_df"
   ],
   "metadata": {
    "collapsed": false,
    "ExecuteTime": {
     "end_time": "2024-12-31T18:44:05.491861500Z",
     "start_time": "2024-12-31T18:44:05.387894700Z"
    }
   },
   "id": "25c20e9dc937c0af"
  },
  {
   "cell_type": "code",
   "execution_count": 40,
   "outputs": [],
   "source": [
    "descriptive_stats = df.describe(include='all')"
   ],
   "metadata": {
    "collapsed": false,
    "ExecuteTime": {
     "end_time": "2024-12-31T18:57:32.320009100Z",
     "start_time": "2024-12-31T18:57:32.273100Z"
    }
   },
   "id": "56ba1335b63e9e8c"
  },
  {
   "cell_type": "code",
   "execution_count": 41,
   "outputs": [
    {
     "data": {
      "text/plain": "                          loteNo departamento_anonym empresa_anonym  \\\ncount                       2525                2525           2525   \nunique                      2525                   8             77   \ntop     5e4604c71c555bfa922bd644                dp_3          em_46   \nfreq                           1                1215            250   \nmean                         NaN                 NaN            NaN   \nstd                          NaN                 NaN            NaN   \nmin                          NaN                 NaN            NaN   \n25%                          NaN                 NaN            NaN   \n50%                          NaN                 NaN            NaN   \n75%                          NaN                 NaN            NaN   \nmax                          NaN                 NaN            NaN   \n\n       granja_anonym proveedorCorregido_anonym fabricaAlimento genética  \\\ncount           2525                      2525            2525     2525   \nunique            87                        11               9        7   \ntop            gr_48                      pn_0            pp_8     lg_0   \nfreq             250                      1100             664     2114   \nmean             NaN                       NaN             NaN      NaN   \nstd              NaN                       NaN             NaN      NaN   \nmin              NaN                       NaN             NaN      NaN   \n25%              NaN                       NaN             NaN      NaN   \n50%              NaN                       NaN             NaN      NaN   \n75%              NaN                       NaN             NaN      NaN   \nmax              NaN                       NaN             NaN      NaN   \n\n        duracionCeba    edadFinal  edadInicial  ...    pesoFinal  fechaSalida  \\\ncount    2525.000000  2525.000000  2525.000000  ...  2525.000000         2525   \nunique           NaN          NaN          NaN  ...          NaN          685   \ntop              NaN          NaN          NaN  ...          NaN    1/02/2021   \nfreq             NaN          NaN          NaN  ...          NaN           45   \nmean       84.353299   157.153844    72.800545  ...   113.904912          NaN   \nstd        10.956194    10.141550     5.659016  ...     9.841921          NaN   \nmin        19.600000    92.600000    53.000000  ...    81.560000          NaN   \n25%        77.000000   151.000000    70.000000  ...   107.589700          NaN   \n50%        83.313100   156.450000    71.000000  ...   114.886700          NaN   \n75%        91.100000   163.000000    74.000000  ...   120.890000          NaN   \nmax       144.000000   206.000000   104.820000  ...   138.755000          NaN   \n\n         anioSalida  semesreSalida  anioSemestreSalida asesor  \\\ncount   2525.000000    2525.000000                2525   2525   \nunique          NaN            NaN                   9     26   \ntop             NaN            NaN             2021-S1  rt_18   \nfreq            NaN            NaN                 375    306   \nmean    2020.756436       1.472871                 NaN    NaN   \nstd        1.105240       0.499362                 NaN    NaN   \nmin     2019.000000       1.000000                 NaN    NaN   \n25%     2020.000000       1.000000                 NaN    NaN   \n50%     2021.000000       1.000000                 NaN    NaN   \n75%     2022.000000       2.000000                 NaN    NaN   \nmax     2023.000000       2.000000                 NaN    NaN   \n\n       numFinalAnimales  numInicialAnimales   mortalidad  \\\ncount       2525.000000         2525.000000  2525.000000   \nunique              NaN                 NaN          NaN   \ntop                 NaN                 NaN          NaN   \nfreq                NaN                 NaN          NaN   \nmean         588.589307          601.573465     1.880392   \nstd          704.765578          720.830793     1.633003   \nmin           13.000000           13.000000     0.000000   \n25%          163.000000          167.000000     0.750000   \n50%          367.000000          375.000000     1.510000   \n75%          764.000000          777.000000     2.600000   \nmax        11030.000000        11242.000000    10.000000   \n\n        conversionAlimenticia  \ncount             2525.000000  \nunique                    NaN  \ntop                       NaN  \nfreq                      NaN  \nmean                 2.236601  \nstd                  0.153797  \nmin                  1.802000  \n25%                  2.133700  \n50%                  2.222800  \n75%                  2.330000  \nmax                  2.790000  \n\n[11 rows x 21 columns]",
      "text/html": "<div>\n<style scoped>\n    .dataframe tbody tr th:only-of-type {\n        vertical-align: middle;\n    }\n\n    .dataframe tbody tr th {\n        vertical-align: top;\n    }\n\n    .dataframe thead th {\n        text-align: right;\n    }\n</style>\n<table border=\"1\" class=\"dataframe\">\n  <thead>\n    <tr style=\"text-align: right;\">\n      <th></th>\n      <th>loteNo</th>\n      <th>departamento_anonym</th>\n      <th>empresa_anonym</th>\n      <th>granja_anonym</th>\n      <th>proveedorCorregido_anonym</th>\n      <th>fabricaAlimento</th>\n      <th>genética</th>\n      <th>duracionCeba</th>\n      <th>edadFinal</th>\n      <th>edadInicial</th>\n      <th>...</th>\n      <th>pesoFinal</th>\n      <th>fechaSalida</th>\n      <th>anioSalida</th>\n      <th>semesreSalida</th>\n      <th>anioSemestreSalida</th>\n      <th>asesor</th>\n      <th>numFinalAnimales</th>\n      <th>numInicialAnimales</th>\n      <th>mortalidad</th>\n      <th>conversionAlimenticia</th>\n    </tr>\n  </thead>\n  <tbody>\n    <tr>\n      <th>count</th>\n      <td>2525</td>\n      <td>2525</td>\n      <td>2525</td>\n      <td>2525</td>\n      <td>2525</td>\n      <td>2525</td>\n      <td>2525</td>\n      <td>2525.000000</td>\n      <td>2525.000000</td>\n      <td>2525.000000</td>\n      <td>...</td>\n      <td>2525.000000</td>\n      <td>2525</td>\n      <td>2525.000000</td>\n      <td>2525.000000</td>\n      <td>2525</td>\n      <td>2525</td>\n      <td>2525.000000</td>\n      <td>2525.000000</td>\n      <td>2525.000000</td>\n      <td>2525.000000</td>\n    </tr>\n    <tr>\n      <th>unique</th>\n      <td>2525</td>\n      <td>8</td>\n      <td>77</td>\n      <td>87</td>\n      <td>11</td>\n      <td>9</td>\n      <td>7</td>\n      <td>NaN</td>\n      <td>NaN</td>\n      <td>NaN</td>\n      <td>...</td>\n      <td>NaN</td>\n      <td>685</td>\n      <td>NaN</td>\n      <td>NaN</td>\n      <td>9</td>\n      <td>26</td>\n      <td>NaN</td>\n      <td>NaN</td>\n      <td>NaN</td>\n      <td>NaN</td>\n    </tr>\n    <tr>\n      <th>top</th>\n      <td>5e4604c71c555bfa922bd644</td>\n      <td>dp_3</td>\n      <td>em_46</td>\n      <td>gr_48</td>\n      <td>pn_0</td>\n      <td>pp_8</td>\n      <td>lg_0</td>\n      <td>NaN</td>\n      <td>NaN</td>\n      <td>NaN</td>\n      <td>...</td>\n      <td>NaN</td>\n      <td>1/02/2021</td>\n      <td>NaN</td>\n      <td>NaN</td>\n      <td>2021-S1</td>\n      <td>rt_18</td>\n      <td>NaN</td>\n      <td>NaN</td>\n      <td>NaN</td>\n      <td>NaN</td>\n    </tr>\n    <tr>\n      <th>freq</th>\n      <td>1</td>\n      <td>1215</td>\n      <td>250</td>\n      <td>250</td>\n      <td>1100</td>\n      <td>664</td>\n      <td>2114</td>\n      <td>NaN</td>\n      <td>NaN</td>\n      <td>NaN</td>\n      <td>...</td>\n      <td>NaN</td>\n      <td>45</td>\n      <td>NaN</td>\n      <td>NaN</td>\n      <td>375</td>\n      <td>306</td>\n      <td>NaN</td>\n      <td>NaN</td>\n      <td>NaN</td>\n      <td>NaN</td>\n    </tr>\n    <tr>\n      <th>mean</th>\n      <td>NaN</td>\n      <td>NaN</td>\n      <td>NaN</td>\n      <td>NaN</td>\n      <td>NaN</td>\n      <td>NaN</td>\n      <td>NaN</td>\n      <td>84.353299</td>\n      <td>157.153844</td>\n      <td>72.800545</td>\n      <td>...</td>\n      <td>113.904912</td>\n      <td>NaN</td>\n      <td>2020.756436</td>\n      <td>1.472871</td>\n      <td>NaN</td>\n      <td>NaN</td>\n      <td>588.589307</td>\n      <td>601.573465</td>\n      <td>1.880392</td>\n      <td>2.236601</td>\n    </tr>\n    <tr>\n      <th>std</th>\n      <td>NaN</td>\n      <td>NaN</td>\n      <td>NaN</td>\n      <td>NaN</td>\n      <td>NaN</td>\n      <td>NaN</td>\n      <td>NaN</td>\n      <td>10.956194</td>\n      <td>10.141550</td>\n      <td>5.659016</td>\n      <td>...</td>\n      <td>9.841921</td>\n      <td>NaN</td>\n      <td>1.105240</td>\n      <td>0.499362</td>\n      <td>NaN</td>\n      <td>NaN</td>\n      <td>704.765578</td>\n      <td>720.830793</td>\n      <td>1.633003</td>\n      <td>0.153797</td>\n    </tr>\n    <tr>\n      <th>min</th>\n      <td>NaN</td>\n      <td>NaN</td>\n      <td>NaN</td>\n      <td>NaN</td>\n      <td>NaN</td>\n      <td>NaN</td>\n      <td>NaN</td>\n      <td>19.600000</td>\n      <td>92.600000</td>\n      <td>53.000000</td>\n      <td>...</td>\n      <td>81.560000</td>\n      <td>NaN</td>\n      <td>2019.000000</td>\n      <td>1.000000</td>\n      <td>NaN</td>\n      <td>NaN</td>\n      <td>13.000000</td>\n      <td>13.000000</td>\n      <td>0.000000</td>\n      <td>1.802000</td>\n    </tr>\n    <tr>\n      <th>25%</th>\n      <td>NaN</td>\n      <td>NaN</td>\n      <td>NaN</td>\n      <td>NaN</td>\n      <td>NaN</td>\n      <td>NaN</td>\n      <td>NaN</td>\n      <td>77.000000</td>\n      <td>151.000000</td>\n      <td>70.000000</td>\n      <td>...</td>\n      <td>107.589700</td>\n      <td>NaN</td>\n      <td>2020.000000</td>\n      <td>1.000000</td>\n      <td>NaN</td>\n      <td>NaN</td>\n      <td>163.000000</td>\n      <td>167.000000</td>\n      <td>0.750000</td>\n      <td>2.133700</td>\n    </tr>\n    <tr>\n      <th>50%</th>\n      <td>NaN</td>\n      <td>NaN</td>\n      <td>NaN</td>\n      <td>NaN</td>\n      <td>NaN</td>\n      <td>NaN</td>\n      <td>NaN</td>\n      <td>83.313100</td>\n      <td>156.450000</td>\n      <td>71.000000</td>\n      <td>...</td>\n      <td>114.886700</td>\n      <td>NaN</td>\n      <td>2021.000000</td>\n      <td>1.000000</td>\n      <td>NaN</td>\n      <td>NaN</td>\n      <td>367.000000</td>\n      <td>375.000000</td>\n      <td>1.510000</td>\n      <td>2.222800</td>\n    </tr>\n    <tr>\n      <th>75%</th>\n      <td>NaN</td>\n      <td>NaN</td>\n      <td>NaN</td>\n      <td>NaN</td>\n      <td>NaN</td>\n      <td>NaN</td>\n      <td>NaN</td>\n      <td>91.100000</td>\n      <td>163.000000</td>\n      <td>74.000000</td>\n      <td>...</td>\n      <td>120.890000</td>\n      <td>NaN</td>\n      <td>2022.000000</td>\n      <td>2.000000</td>\n      <td>NaN</td>\n      <td>NaN</td>\n      <td>764.000000</td>\n      <td>777.000000</td>\n      <td>2.600000</td>\n      <td>2.330000</td>\n    </tr>\n    <tr>\n      <th>max</th>\n      <td>NaN</td>\n      <td>NaN</td>\n      <td>NaN</td>\n      <td>NaN</td>\n      <td>NaN</td>\n      <td>NaN</td>\n      <td>NaN</td>\n      <td>144.000000</td>\n      <td>206.000000</td>\n      <td>104.820000</td>\n      <td>...</td>\n      <td>138.755000</td>\n      <td>NaN</td>\n      <td>2023.000000</td>\n      <td>2.000000</td>\n      <td>NaN</td>\n      <td>NaN</td>\n      <td>11030.000000</td>\n      <td>11242.000000</td>\n      <td>10.000000</td>\n      <td>2.790000</td>\n    </tr>\n  </tbody>\n</table>\n<p>11 rows × 21 columns</p>\n</div>"
     },
     "execution_count": 41,
     "metadata": {},
     "output_type": "execute_result"
    }
   ],
   "source": [
    "descriptive_stats"
   ],
   "metadata": {
    "collapsed": false,
    "ExecuteTime": {
     "end_time": "2024-12-31T18:57:37.206127100Z",
     "start_time": "2024-12-31T18:57:37.143611300Z"
    }
   },
   "id": "9b12608b7964807a"
  },
  {
   "cell_type": "code",
   "execution_count": 44,
   "outputs": [],
   "source": [
    "cols = [\n",
    "     'departamento_anonym', 'empresa_anonym', 'granja_anonym',\n",
    "       'proveedorCorregido_anonym', 'fabricaAlimento', 'genética',\n",
    "       'duracionCeba', 'edadFinal', 'edadInicial', 'pesoInicial', 'pesoFinal',\n",
    "       'fechaSalida', 'anioSalida', 'semesreSalida', 'anioSemestreSalida',\n",
    "       'asesor', 'numFinalAnimales', 'numInicialAnimales', 'mortalidad',\n",
    "       'conversionAlimenticia'\n",
    "    \n",
    "]"
   ],
   "metadata": {
    "collapsed": false,
    "ExecuteTime": {
     "end_time": "2024-12-31T19:00:58.520405400Z",
     "start_time": "2024-12-31T19:00:58.493345800Z"
    }
   },
   "id": "c91f5cbeb86255b6"
  },
  {
   "cell_type": "code",
   "execution_count": 45,
   "outputs": [
    {
     "ename": "ValueError",
     "evalue": "could not convert string to float: 'dp_0'",
     "output_type": "error",
     "traceback": [
      "\u001B[1;31m---------------------------------------------------------------------------\u001B[0m",
      "\u001B[1;31mValueError\u001B[0m                                Traceback (most recent call last)",
      "Cell \u001B[1;32mIn[45], line 1\u001B[0m\n\u001B[1;32m----> 1\u001B[0m correlation_matrix \u001B[38;5;241m=\u001B[39m \u001B[43mdf\u001B[49m\u001B[43m[\u001B[49m\u001B[43mcols\u001B[49m\u001B[43m]\u001B[49m\u001B[38;5;241;43m.\u001B[39;49m\u001B[43mcorr\u001B[49m\u001B[43m(\u001B[49m\u001B[43m)\u001B[49m\n",
      "File \u001B[1;32mc:\\users\\asus\\appdata\\local\\programs\\python\\python38\\lib\\site-packages\\pandas\\core\\frame.py:10054\u001B[0m, in \u001B[0;36mDataFrame.corr\u001B[1;34m(self, method, min_periods, numeric_only)\u001B[0m\n\u001B[0;32m  10052\u001B[0m cols \u001B[38;5;241m=\u001B[39m data\u001B[38;5;241m.\u001B[39mcolumns\n\u001B[0;32m  10053\u001B[0m idx \u001B[38;5;241m=\u001B[39m cols\u001B[38;5;241m.\u001B[39mcopy()\n\u001B[1;32m> 10054\u001B[0m mat \u001B[38;5;241m=\u001B[39m \u001B[43mdata\u001B[49m\u001B[38;5;241;43m.\u001B[39;49m\u001B[43mto_numpy\u001B[49m\u001B[43m(\u001B[49m\u001B[43mdtype\u001B[49m\u001B[38;5;241;43m=\u001B[39;49m\u001B[38;5;28;43mfloat\u001B[39;49m\u001B[43m,\u001B[49m\u001B[43m \u001B[49m\u001B[43mna_value\u001B[49m\u001B[38;5;241;43m=\u001B[39;49m\u001B[43mnp\u001B[49m\u001B[38;5;241;43m.\u001B[39;49m\u001B[43mnan\u001B[49m\u001B[43m,\u001B[49m\u001B[43m \u001B[49m\u001B[43mcopy\u001B[49m\u001B[38;5;241;43m=\u001B[39;49m\u001B[38;5;28;43;01mFalse\u001B[39;49;00m\u001B[43m)\u001B[49m\n\u001B[0;32m  10056\u001B[0m \u001B[38;5;28;01mif\u001B[39;00m method \u001B[38;5;241m==\u001B[39m \u001B[38;5;124m\"\u001B[39m\u001B[38;5;124mpearson\u001B[39m\u001B[38;5;124m\"\u001B[39m:\n\u001B[0;32m  10057\u001B[0m     correl \u001B[38;5;241m=\u001B[39m libalgos\u001B[38;5;241m.\u001B[39mnancorr(mat, minp\u001B[38;5;241m=\u001B[39mmin_periods)\n",
      "File \u001B[1;32mc:\\users\\asus\\appdata\\local\\programs\\python\\python38\\lib\\site-packages\\pandas\\core\\frame.py:1838\u001B[0m, in \u001B[0;36mDataFrame.to_numpy\u001B[1;34m(self, dtype, copy, na_value)\u001B[0m\n\u001B[0;32m   1836\u001B[0m \u001B[38;5;28;01mif\u001B[39;00m dtype \u001B[38;5;129;01mis\u001B[39;00m \u001B[38;5;129;01mnot\u001B[39;00m \u001B[38;5;28;01mNone\u001B[39;00m:\n\u001B[0;32m   1837\u001B[0m     dtype \u001B[38;5;241m=\u001B[39m np\u001B[38;5;241m.\u001B[39mdtype(dtype)\n\u001B[1;32m-> 1838\u001B[0m result \u001B[38;5;241m=\u001B[39m \u001B[38;5;28;43mself\u001B[39;49m\u001B[38;5;241;43m.\u001B[39;49m\u001B[43m_mgr\u001B[49m\u001B[38;5;241;43m.\u001B[39;49m\u001B[43mas_array\u001B[49m\u001B[43m(\u001B[49m\u001B[43mdtype\u001B[49m\u001B[38;5;241;43m=\u001B[39;49m\u001B[43mdtype\u001B[49m\u001B[43m,\u001B[49m\u001B[43m \u001B[49m\u001B[43mcopy\u001B[49m\u001B[38;5;241;43m=\u001B[39;49m\u001B[43mcopy\u001B[49m\u001B[43m,\u001B[49m\u001B[43m \u001B[49m\u001B[43mna_value\u001B[49m\u001B[38;5;241;43m=\u001B[39;49m\u001B[43mna_value\u001B[49m\u001B[43m)\u001B[49m\n\u001B[0;32m   1839\u001B[0m \u001B[38;5;28;01mif\u001B[39;00m result\u001B[38;5;241m.\u001B[39mdtype \u001B[38;5;129;01mis\u001B[39;00m \u001B[38;5;129;01mnot\u001B[39;00m dtype:\n\u001B[0;32m   1840\u001B[0m     result \u001B[38;5;241m=\u001B[39m np\u001B[38;5;241m.\u001B[39marray(result, dtype\u001B[38;5;241m=\u001B[39mdtype, copy\u001B[38;5;241m=\u001B[39m\u001B[38;5;28;01mFalse\u001B[39;00m)\n",
      "File \u001B[1;32mc:\\users\\asus\\appdata\\local\\programs\\python\\python38\\lib\\site-packages\\pandas\\core\\internals\\managers.py:1732\u001B[0m, in \u001B[0;36mBlockManager.as_array\u001B[1;34m(self, dtype, copy, na_value)\u001B[0m\n\u001B[0;32m   1730\u001B[0m         arr\u001B[38;5;241m.\u001B[39mflags\u001B[38;5;241m.\u001B[39mwriteable \u001B[38;5;241m=\u001B[39m \u001B[38;5;28;01mFalse\u001B[39;00m\n\u001B[0;32m   1731\u001B[0m \u001B[38;5;28;01melse\u001B[39;00m:\n\u001B[1;32m-> 1732\u001B[0m     arr \u001B[38;5;241m=\u001B[39m \u001B[38;5;28;43mself\u001B[39;49m\u001B[38;5;241;43m.\u001B[39;49m\u001B[43m_interleave\u001B[49m\u001B[43m(\u001B[49m\u001B[43mdtype\u001B[49m\u001B[38;5;241;43m=\u001B[39;49m\u001B[43mdtype\u001B[49m\u001B[43m,\u001B[49m\u001B[43m \u001B[49m\u001B[43mna_value\u001B[49m\u001B[38;5;241;43m=\u001B[39;49m\u001B[43mna_value\u001B[49m\u001B[43m)\u001B[49m\n\u001B[0;32m   1733\u001B[0m     \u001B[38;5;66;03m# The underlying data was copied within _interleave, so no need\u001B[39;00m\n\u001B[0;32m   1734\u001B[0m     \u001B[38;5;66;03m# to further copy if copy=True or setting na_value\u001B[39;00m\n\u001B[0;32m   1736\u001B[0m \u001B[38;5;28;01mif\u001B[39;00m na_value \u001B[38;5;129;01mis\u001B[39;00m \u001B[38;5;129;01mnot\u001B[39;00m lib\u001B[38;5;241m.\u001B[39mno_default:\n",
      "File \u001B[1;32mc:\\users\\asus\\appdata\\local\\programs\\python\\python38\\lib\\site-packages\\pandas\\core\\internals\\managers.py:1794\u001B[0m, in \u001B[0;36mBlockManager._interleave\u001B[1;34m(self, dtype, na_value)\u001B[0m\n\u001B[0;32m   1792\u001B[0m     \u001B[38;5;28;01melse\u001B[39;00m:\n\u001B[0;32m   1793\u001B[0m         arr \u001B[38;5;241m=\u001B[39m blk\u001B[38;5;241m.\u001B[39mget_values(dtype)\n\u001B[1;32m-> 1794\u001B[0m     \u001B[43mresult\u001B[49m\u001B[43m[\u001B[49m\u001B[43mrl\u001B[49m\u001B[38;5;241;43m.\u001B[39;49m\u001B[43mindexer\u001B[49m\u001B[43m]\u001B[49m \u001B[38;5;241m=\u001B[39m arr\n\u001B[0;32m   1795\u001B[0m     itemmask[rl\u001B[38;5;241m.\u001B[39mindexer] \u001B[38;5;241m=\u001B[39m \u001B[38;5;241m1\u001B[39m\n\u001B[0;32m   1797\u001B[0m \u001B[38;5;28;01mif\u001B[39;00m \u001B[38;5;129;01mnot\u001B[39;00m itemmask\u001B[38;5;241m.\u001B[39mall():\n",
      "\u001B[1;31mValueError\u001B[0m: could not convert string to float: 'dp_0'"
     ]
    }
   ],
   "source": [
    "correlation_matrix = df[cols].corr()"
   ],
   "metadata": {
    "collapsed": false,
    "ExecuteTime": {
     "end_time": "2024-12-31T19:01:06.659464800Z",
     "start_time": "2024-12-31T19:01:06.594904200Z"
    }
   },
   "id": "5882cf49f71eb351"
  },
  {
   "cell_type": "code",
   "execution_count": null,
   "outputs": [],
   "source": [
    "# Identificar columnas con alta correlación o posibles redundancias (correlación mayor a 0.8 o menor a -0.8)\n",
    "high_correlation = correlation_matrix[(correlation_matrix > 0.8) | (correlation_matrix < -0.8)]\n",
    "high_correlation = high_correlation.where(pd.notnull(high_correlation), '')"
   ],
   "metadata": {
    "collapsed": false
   },
   "id": "1f64021ba7126e5e"
  }
 ],
 "metadata": {
  "kernelspec": {
   "display_name": "Python 3",
   "language": "python",
   "name": "python3"
  },
  "language_info": {
   "codemirror_mode": {
    "name": "ipython",
    "version": 2
   },
   "file_extension": ".py",
   "mimetype": "text/x-python",
   "name": "python",
   "nbconvert_exporter": "python",
   "pygments_lexer": "ipython2",
   "version": "2.7.6"
  }
 },
 "nbformat": 4,
 "nbformat_minor": 5
}
